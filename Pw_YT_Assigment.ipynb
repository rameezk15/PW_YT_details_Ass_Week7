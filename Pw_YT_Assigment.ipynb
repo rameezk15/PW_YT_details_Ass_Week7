{
 "cells": [
  {
   "cell_type": "markdown",
   "metadata": {},
   "source": [
    "<h1>Go to this given URL and solve the following questions</h1>\n",
    "<h4>URL: https://www.youtube.com/@PW-Foundation/videos</h4>"
   ]
  },
  {
   "cell_type": "markdown",
   "metadata": {},
   "source": [
    "<h5>Q1. Write a python program to extract the video URL of the first five videos.</h5>"
   ]
  },
  {
   "cell_type": "code",
   "execution_count": 3,
   "metadata": {},
   "outputs": [],
   "source": [
    "#Import required library\n",
    "from googleapiclient.discovery import build\n",
    "import pandas as pd\n",
    "import requests\n",
    "from bs4 import BeautifulSoup as bs"
   ]
  },
  {
   "cell_type": "code",
   "execution_count": 4,
   "metadata": {},
   "outputs": [],
   "source": [
    "#Setup API key, Channel ID\n",
    "api_key = \"Paste_API_Key_Here\"\n",
    "\n",
    "#Create api service\n",
    "youtube = build('youtube','v3', developerKey= api_key)"
   ]
  },
  {
   "cell_type": "code",
   "execution_count": 5,
   "metadata": {},
   "outputs": [],
   "source": [
    "#Get channel ID with beautifulSoup\n",
    "input_link = 'https://www.youtube.com/@PW-Foundation/videos'\n",
    "response = requests.get(input_link)\n",
    "html = bs(response.text, 'html.parser')\n",
    "\n",
    "#Extract channel link with channel_id \n",
    "channel_link = html.find_all('meta', {'property':\"og:url\"})[0]['content']\n",
    "\n",
    "#Extract Channel ID\n",
    "channel_ID = channel_link.split('/')[-1]"
   ]
  },
  {
   "cell_type": "code",
   "execution_count": 6,
   "metadata": {},
   "outputs": [],
   "source": [
    "#Function for channel details \n",
    "def get_channel_details(youtube, channel_ID):\n",
    "    request = youtube.channels().list(\n",
    "        part=\"contentDetails,statistics\",\n",
    "        id= channel_ID)\n",
    "    response = request.execute()\n",
    "    playlist_id = response['items'][0][\"contentDetails\"][\"relatedPlaylists\"]['uploads']\n",
    "    return playlist_id"
   ]
  },
  {
   "cell_type": "code",
   "execution_count": 7,
   "metadata": {},
   "outputs": [
    {
     "data": {
      "text/plain": [
       "'UUphU2bAGmw304CFAzy0Enuw'"
      ]
     },
     "execution_count": 7,
     "metadata": {},
     "output_type": "execute_result"
    }
   ],
   "source": [
    "try:\n",
    "    #Extract Playlist ID\n",
    "    playlist_id = get_channel_details(youtube, channel_ID)\n",
    "    playlist_id\n",
    "except Exception as e:\n",
    "    print(\"Please Check Your API Key\")"
   ]
  },
  {
   "cell_type": "code",
   "execution_count": 8,
   "metadata": {},
   "outputs": [],
   "source": [
    "# Function for extract first 5 videos\n",
    "def get_videos_list(youtube, playlist_id):\n",
    "    request = youtube.playlistItems().list(\n",
    "        part = 'contentDetails',\n",
    "        playlistId = playlist_id)\n",
    "    response = request.execute()\n",
    "\n",
    "    video_ids = []\n",
    "    for video in response['items']:\n",
    "        video_id = video['contentDetails']['videoId']\n",
    "        video_ids.append(video_id)\n",
    "\n",
    "    return video_ids"
   ]
  },
  {
   "cell_type": "code",
   "execution_count": 9,
   "metadata": {},
   "outputs": [],
   "source": [
    "#Extract Video ID\n",
    "video_ids = get_videos_list(youtube, playlist_id)"
   ]
  },
  {
   "cell_type": "code",
   "execution_count": 10,
   "metadata": {},
   "outputs": [
    {
     "data": {
      "text/plain": [
       "['https://www.youtube.com/watch?v=bR-hNGSI8HE',\n",
       " 'https://www.youtube.com/watch?v=KWXKegvNa-I',\n",
       " 'https://www.youtube.com/watch?v=WjicICAmmCQ',\n",
       " 'https://www.youtube.com/watch?v=-JvIJ3SS3lg',\n",
       " 'https://www.youtube.com/watch?v=XrNVZyKnDio']"
      ]
     },
     "execution_count": 10,
     "metadata": {},
     "output_type": "execute_result"
    }
   ],
   "source": [
    "#List of Videos link\n",
    "list(map(lambda x: \"https://www.youtube.com/watch?v=\"+x, video_ids)) "
   ]
  },
  {
   "cell_type": "markdown",
   "metadata": {},
   "source": [
    "<h5>Q2. Write a python program to extract the URL of the video thumbnails of the first five videos.</h5>"
   ]
  },
  {
   "cell_type": "code",
   "execution_count": 11,
   "metadata": {},
   "outputs": [],
   "source": [
    "#Function for extract videos details\n",
    "def get_video_details(youtube, video_ids):\n",
    "    request = youtube.videos().list(\n",
    "         part = 'snippet,contentDetails,statistics',\n",
    "        id = \",\".join(video_ids))\n",
    "                \n",
    "    response = request.execute()\n",
    "\n",
    "    video_details =[]\n",
    "    for video in response['items']:\n",
    "        data = dict(Vedio_Link = \"https://www.youtube.com/watch?v=\" + video[\"id\"], \n",
    "                Video_Thumbnails = video[\"snippet\"][\"thumbnails\"][\"standard\"][\"url\"],\n",
    "                Title = video[\"snippet\"][\"title\"],\n",
    "                Views= video[\"statistics\"][\"viewCount\"],\n",
    "                Posting_date= video[\"snippet\"][\"publishedAt\"])\n",
    "        video_details.append(data)\n",
    "    return video_details"
   ]
  },
  {
   "cell_type": "code",
   "execution_count": 12,
   "metadata": {},
   "outputs": [],
   "source": [
    "video_details = get_video_details(youtube, video_ids)"
   ]
  },
  {
   "cell_type": "code",
   "execution_count": 13,
   "metadata": {},
   "outputs": [],
   "source": [
    "video_data=pd.DataFrame(video_details)"
   ]
  },
  {
   "cell_type": "code",
   "execution_count": 14,
   "metadata": {},
   "outputs": [],
   "source": [
    "#convert into date datatype\n",
    "video_data['Posting_date'] = pd.to_datetime(video_data['Posting_date']).dt.date\n",
    "\n",
    "#convert views into int\n",
    "video_data['Views'] = pd.to_numeric(video_data['Views'])"
   ]
  },
  {
   "cell_type": "code",
   "execution_count": 15,
   "metadata": {},
   "outputs": [
    {
     "data": {
      "text/html": [
       "<div>\n",
       "<style scoped>\n",
       "    .dataframe tbody tr th:only-of-type {\n",
       "        vertical-align: middle;\n",
       "    }\n",
       "\n",
       "    .dataframe tbody tr th {\n",
       "        vertical-align: top;\n",
       "    }\n",
       "\n",
       "    .dataframe thead th {\n",
       "        text-align: right;\n",
       "    }\n",
       "</style>\n",
       "<table border=\"1\" class=\"dataframe\">\n",
       "  <thead>\n",
       "    <tr style=\"text-align: right;\">\n",
       "      <th></th>\n",
       "      <th>Vedio_Link</th>\n",
       "      <th>Video_Thumbnails</th>\n",
       "      <th>Title</th>\n",
       "      <th>Views</th>\n",
       "      <th>Posting_date</th>\n",
       "    </tr>\n",
       "  </thead>\n",
       "  <tbody>\n",
       "    <tr>\n",
       "      <th>0</th>\n",
       "      <td>https://www.youtube.com/watch?v=bR-hNGSI8HE</td>\n",
       "      <td>https://i.ytimg.com/vi/bR-hNGSI8HE/sddefault_l...</td>\n",
       "      <td>Class 9th Biology : Make Your Basics Super Str...</td>\n",
       "      <td>0</td>\n",
       "      <td>2023-07-18</td>\n",
       "    </tr>\n",
       "    <tr>\n",
       "      <th>1</th>\n",
       "      <td>https://www.youtube.com/watch?v=KWXKegvNa-I</td>\n",
       "      <td>https://i.ytimg.com/vi/KWXKegvNa-I/sddefault.jpg</td>\n",
       "      <td>Something Big Coming Soon For Class - 9th &amp; 10...</td>\n",
       "      <td>23612</td>\n",
       "      <td>2023-07-16</td>\n",
       "    </tr>\n",
       "    <tr>\n",
       "      <th>2</th>\n",
       "      <td>https://www.youtube.com/watch?v=WjicICAmmCQ</td>\n",
       "      <td>https://i.ytimg.com/vi/WjicICAmmCQ/sddefault.jpg</td>\n",
       "      <td>PW Scholarship Test is Live Now..!! 🔥🔥 #Schola...</td>\n",
       "      <td>73589</td>\n",
       "      <td>2023-07-15</td>\n",
       "    </tr>\n",
       "    <tr>\n",
       "      <th>3</th>\n",
       "      <td>https://www.youtube.com/watch?v=-JvIJ3SS3lg</td>\n",
       "      <td>https://i.ytimg.com/vi/-JvIJ3SS3lg/sddefault.jpg</td>\n",
       "      <td>MAHA SANGRAM Physics VS Sst Quiz 🔥|| Class - 1...</td>\n",
       "      <td>79077</td>\n",
       "      <td>2023-07-13</td>\n",
       "    </tr>\n",
       "    <tr>\n",
       "      <th>4</th>\n",
       "      <td>https://www.youtube.com/watch?v=XrNVZyKnDio</td>\n",
       "      <td>https://i.ytimg.com/vi/XrNVZyKnDio/sddefault.jpg</td>\n",
       "      <td>Class 9th Maths : Make Your Basics Super Stron...</td>\n",
       "      <td>36549</td>\n",
       "      <td>2023-07-11</td>\n",
       "    </tr>\n",
       "  </tbody>\n",
       "</table>\n",
       "</div>"
      ],
      "text/plain": [
       "                                    Vedio_Link  \\\n",
       "0  https://www.youtube.com/watch?v=bR-hNGSI8HE   \n",
       "1  https://www.youtube.com/watch?v=KWXKegvNa-I   \n",
       "2  https://www.youtube.com/watch?v=WjicICAmmCQ   \n",
       "3  https://www.youtube.com/watch?v=-JvIJ3SS3lg   \n",
       "4  https://www.youtube.com/watch?v=XrNVZyKnDio   \n",
       "\n",
       "                                    Video_Thumbnails  \\\n",
       "0  https://i.ytimg.com/vi/bR-hNGSI8HE/sddefault_l...   \n",
       "1   https://i.ytimg.com/vi/KWXKegvNa-I/sddefault.jpg   \n",
       "2   https://i.ytimg.com/vi/WjicICAmmCQ/sddefault.jpg   \n",
       "3   https://i.ytimg.com/vi/-JvIJ3SS3lg/sddefault.jpg   \n",
       "4   https://i.ytimg.com/vi/XrNVZyKnDio/sddefault.jpg   \n",
       "\n",
       "                                               Title  Views Posting_date  \n",
       "0  Class 9th Biology : Make Your Basics Super Str...      0   2023-07-18  \n",
       "1  Something Big Coming Soon For Class - 9th & 10...  23612   2023-07-16  \n",
       "2  PW Scholarship Test is Live Now..!! 🔥🔥 #Schola...  73589   2023-07-15  \n",
       "3  MAHA SANGRAM Physics VS Sst Quiz 🔥|| Class - 1...  79077   2023-07-13  \n",
       "4  Class 9th Maths : Make Your Basics Super Stron...  36549   2023-07-11  "
      ]
     },
     "execution_count": 15,
     "metadata": {},
     "output_type": "execute_result"
    }
   ],
   "source": [
    "video_data"
   ]
  },
  {
   "cell_type": "markdown",
   "metadata": {},
   "source": [
    "<h5>URL of First 5 videos</h5>"
   ]
  },
  {
   "cell_type": "code",
   "execution_count": 16,
   "metadata": {},
   "outputs": [
    {
     "data": {
      "text/plain": [
       "0    https://i.ytimg.com/vi/bR-hNGSI8HE/sddefault_l...\n",
       "1     https://i.ytimg.com/vi/KWXKegvNa-I/sddefault.jpg\n",
       "2     https://i.ytimg.com/vi/WjicICAmmCQ/sddefault.jpg\n",
       "3     https://i.ytimg.com/vi/-JvIJ3SS3lg/sddefault.jpg\n",
       "4     https://i.ytimg.com/vi/XrNVZyKnDio/sddefault.jpg\n",
       "Name: Video_Thumbnails, dtype: object"
      ]
     },
     "execution_count": 16,
     "metadata": {},
     "output_type": "execute_result"
    }
   ],
   "source": [
    "video_data[\"Video_Thumbnails\"]"
   ]
  },
  {
   "cell_type": "markdown",
   "metadata": {},
   "source": [
    "<h5>Q3. Write a python program to extract the title of the first five videos.</h5>"
   ]
  },
  {
   "cell_type": "code",
   "execution_count": 17,
   "metadata": {},
   "outputs": [
    {
     "data": {
      "text/plain": [
       "0    Class 9th Biology : Make Your Basics Super Str...\n",
       "1    Something Big Coming Soon For Class - 9th & 10...\n",
       "2    PW Scholarship Test is Live Now..!! 🔥🔥 #Schola...\n",
       "3    MAHA SANGRAM Physics VS Sst Quiz 🔥|| Class - 1...\n",
       "4    Class 9th Maths : Make Your Basics Super Stron...\n",
       "Name: Title, dtype: object"
      ]
     },
     "execution_count": 17,
     "metadata": {},
     "output_type": "execute_result"
    }
   ],
   "source": [
    "video_data[\"Title\"]"
   ]
  },
  {
   "cell_type": "markdown",
   "metadata": {},
   "source": [
    "<h5>Q4. Write a python program to extract the number of views of the first five videos.</h5>"
   ]
  },
  {
   "cell_type": "code",
   "execution_count": 18,
   "metadata": {},
   "outputs": [
    {
     "data": {
      "text/plain": [
       "0        0\n",
       "1    23612\n",
       "2    73589\n",
       "3    79077\n",
       "4    36549\n",
       "Name: Views, dtype: int64"
      ]
     },
     "execution_count": 18,
     "metadata": {},
     "output_type": "execute_result"
    }
   ],
   "source": [
    "video_data[\"Views\"]"
   ]
  },
  {
   "cell_type": "markdown",
   "metadata": {},
   "source": [
    "<h5>Q5. Write a python program to extract the time of posting of video for the first five videos.</h5>"
   ]
  },
  {
   "cell_type": "code",
   "execution_count": 19,
   "metadata": {},
   "outputs": [
    {
     "data": {
      "text/plain": [
       "0    2023-07-18\n",
       "1    2023-07-16\n",
       "2    2023-07-15\n",
       "3    2023-07-13\n",
       "4    2023-07-11\n",
       "Name: Posting_date, dtype: object"
      ]
     },
     "execution_count": 19,
     "metadata": {},
     "output_type": "execute_result"
    }
   ],
   "source": [
    "video_data[\"Posting_date\"]"
   ]
  },
  {
   "cell_type": "markdown",
   "metadata": {},
   "source": [
    "<h5>Save To CSV File</h5>"
   ]
  },
  {
   "cell_type": "code",
   "execution_count": 20,
   "metadata": {},
   "outputs": [],
   "source": [
    "# Save the DataFrame to a CSV file\n",
    "video_data.to_csv(\"PW_YT_Project.csv\", index=False)"
   ]
  }
 ],
 "metadata": {
  "kernelspec": {
   "display_name": "Python 3",
   "language": "python",
   "name": "python3"
  },
  "language_info": {
   "codemirror_mode": {
    "name": "ipython",
    "version": 3
   },
   "file_extension": ".py",
   "mimetype": "text/x-python",
   "name": "python",
   "nbconvert_exporter": "python",
   "pygments_lexer": "ipython3",
   "version": "3.9.17"
  },
  "orig_nbformat": 4
 },
 "nbformat": 4,
 "nbformat_minor": 2
}
